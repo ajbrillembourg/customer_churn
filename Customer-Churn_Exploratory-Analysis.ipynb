{
 "cells": [
  {
   "cell_type": "markdown",
   "id": "58717a16",
   "metadata": {},
   "source": [
    "# Call dataset"
   ]
  },
  {
   "cell_type": "code",
   "execution_count": null,
   "id": "d118ad83",
   "metadata": {},
   "outputs": [],
   "source": [
    "\"\"\"\n",
    "Purdue University - Krannert School of Management\n",
    "MS BAIM Program - Summer 2021\n",
    "MGMT-58600-B03 - Python Programming\n",
    "Final Project - Group 6\n",
    "@authors: Su Tien Lee; Chayadeepsai Cherukupalli; Sri Manogna Gurijala; Alejandro Brillembourg Cuenca\n",
    "\n",
    "\"\"\""
   ]
  },
  {
   "cell_type": "code",
   "execution_count": null,
   "id": "7b59f397",
   "metadata": {},
   "outputs": [],
   "source": [
    "import pandas as pd\n",
    "import os\n",
    "import matplotlib.pylab as plt\n",
    "import seaborn as sns\n",
    "import numpy as np\n",
    "\n",
    "# requesting file directory\n",
    "path=input('Enter directory with customer churn Data files')\n",
    "os.chdir(path)\n",
    "# defining and reading data file for dataframe\n",
    "ccdata=pd.read_csv('Customer-Churn_Dataset.csv')\n",
    "ccdata.head()"
   ]
  },
  {
   "cell_type": "markdown",
   "id": "45c7425f",
   "metadata": {},
   "source": [
    "# TRIANGLE CORRELATION HEATMAP"
   ]
  },
  {
   "cell_type": "code",
   "execution_count": null,
   "id": "f36ab8ac",
   "metadata": {},
   "outputs": [],
   "source": [
    "#ccdata.iloc[[0],:10]\n",
    "val_list = ccdata['Education_Level'].tolist()\n",
    "non_dup = list(set(val_list)).sort()\n",
    "\n",
    "ccdata = ccdata.sort_values(by = 'Education_Level')\n",
    "\n",
    "grouped = ccdata.groupby('Education_Level')['Customer_Age'].mean()\n",
    "\n",
    "\n",
    "for i in set(val_list):\n",
    "    print(\"The average customer age for\",i,\"is:\",format(grouped[i],'.2f'))\n"
   ]
  },
  {
   "cell_type": "code",
   "execution_count": null,
   "id": "9220e695",
   "metadata": {},
   "outputs": [],
   "source": [
    "ccdata[['Customer_Age','Education_Level']].dtypes"
   ]
  },
  {
   "cell_type": "code",
   "execution_count": null,
   "id": "88e14ab7",
   "metadata": {},
   "outputs": [],
   "source": [
    "mask1 = ccdata['Education_Level'] == 'College'\n",
    "\n",
    "mask2 = ccdata['Marital_Status'] == 'Married'\n",
    "\n",
    "mask3 = ccdata['Gender'] == 'F'\n",
    "\n",
    "df = ccdata.select_dtypes(exclude = 'object')\n",
    "\n",
    "df.drop(df.columns[[0,15,16]], axis=1, inplace=True)\n",
    "\n",
    "plt.figure(figsize=(18,6))\n",
    "\n",
    "heatmap = sns.heatmap(df.corr(), vmin=-1, vmax=1, annot=True, cmap='BrBG')"
   ]
  },
  {
   "cell_type": "code",
   "execution_count": null,
   "id": "76ee7eee",
   "metadata": {},
   "outputs": [],
   "source": [
    "# creating the dataframe\n",
    "dataframe=pd.read_csv('Customer-Churn_Dataset.csv')[['Attrition_Flag', 'Customer_Age', 'Gender',\n",
    "       'Dependent_count', 'Education_Level', 'Marital_Status',\n",
    "       'Income_Category', 'Card_Category', 'Months_on_book',\n",
    "       'Total_Relationship_Count', 'Months_Inactive_12_mon',\n",
    "       'Contacts_Count_12_mon', 'Credit_Limit', 'Total_Revolving_Bal',\n",
    "       'Avg_Open_To_Buy', 'Total_Amt_Chng_Q4_Q1', 'Total_Trans_Amt',\n",
    "       'Total_Trans_Ct', 'Total_Ct_Chng_Q4_Q1', 'Avg_Utilization_Ratio']]\n",
    "# defining the chart size\n",
    "plt.figure(figsize=(20, 6))\n",
    "# defining a mask for chart\n",
    "# mask = np.triu(np.ones_like(dataframe.corr(), dtype=np.bool))\n",
    "# creating heatmap\n",
    "heatmap = sns.heatmap(dataframe.corr(), vmin=-1, vmax=1, annot=True, cmap='BrBG')\n",
    "# setting heatmap chart title and additional formatting\n",
    "heatmap.set_title('Triangle Correlation Heatmap', fontdict={'fontsize':18}, pad=16)"
   ]
  },
  {
   "cell_type": "markdown",
   "id": "9b44e242",
   "metadata": {},
   "source": [
    "# EDA1. There are 4% more female customers than male customers, yet 14% more of the attrited customers are female.​"
   ]
  },
  {
   "cell_type": "code",
   "execution_count": null,
   "id": "7f65c38f",
   "metadata": {},
   "outputs": [],
   "source": [
    "# grouping the data to find % share\n",
    "obj = ccdata.groupby(['Attrition_Flag','Gender']).agg({'CLIENTNUM': 'count'})\n",
    "state_pcts = obj.groupby(level=0).apply(lambda x:\n",
    "                                                 100 * x / float(x.sum()))\n",
    "# setting data to relevant to plot\n",
    "x=state_pcts.loc['Attrited Customer','F'][0]\n",
    "y=state_pcts.loc['Attrited Customer','M'][0]\n",
    "\n",
    "# setting legend, labels and data for plotting\n",
    "left = np.array(['Female','Male'])\n",
    "height = np.array([x,y])\n",
    "plt.xlabel('Attrited customer')\n",
    "plt.ylabel('in %')\n",
    "\n",
    "# plotting the info\n",
    "plt.bar(left, height,width=0.5,color=['orange','royalblue'])\n",
    "for a,b in zip(left,height):  \n",
    "    plt.text(a, b, '%.0f' % b, ha='center', va= 'bottom',fontsize=10) \n",
    "plt.show()"
   ]
  },
  {
   "cell_type": "code",
   "execution_count": null,
   "id": "266da127",
   "metadata": {},
   "outputs": [],
   "source": [
    "x"
   ]
  },
  {
   "cell_type": "markdown",
   "id": "d79ed5f7",
   "metadata": {},
   "source": [
    "# EDA1. There are 4% more female customers than male customers, yet 14% more of the attrited customers are female.​"
   ]
  },
  {
   "cell_type": "code",
   "execution_count": null,
   "id": "d2ed27d8",
   "metadata": {},
   "outputs": [],
   "source": [
    "# grouping the data to find % share\n",
    "obj = ccdata.groupby(['Attrition_Flag','Gender']).agg({'CLIENTNUM': 'count'})\n",
    "state_pcts = obj.groupby(level=0).apply(lambda x:\n",
    "                                                 100 * x / float(x.sum()))\n",
    "# setting data to relevant to plot\n",
    "x=state_pcts.loc['Existing Customer','F'][0]\n",
    "y=state_pcts.loc['Existing Customer','M'][0]\n",
    "\n",
    "# setting legend, labels and data for plotting\n",
    "left = np.array(['Female','Male'])\n",
    "height = np.array([x,y])\n",
    "plt.xlabel('Existing customer')\n",
    "plt.ylabel('in %')\n",
    "\n",
    "# plotting the info\n",
    "plt.bar(left, height,width=0.5,color=['orange','royalblue'])\n",
    "for a,b in zip(left,height):  \n",
    "    plt.text(a, b, '%.0f' % b, ha='center', va= 'bottom',fontsize=10) \n",
    "plt.show()"
   ]
  },
  {
   "cell_type": "markdown",
   "id": "b483fe48",
   "metadata": {},
   "source": [
    "# EDA2. Unlike male customers, almost 90% of female customers have less than $10K of credit limit."
   ]
  },
  {
   "cell_type": "code",
   "execution_count": null,
   "id": "f9839ea8",
   "metadata": {
    "scrolled": true
   },
   "outputs": [],
   "source": [
    "# defining the bin labels\n",
    "Credit_limit = ['0-10000', '10000-20000', '20000-30000', '30000-40000']\n",
    "\n",
    "# grouping the data\n",
    "ccdata['CL_bin']=pd.cut(ccdata.Credit_Limit,bins=[0,10000,20000,30000,40000],labels=Credit_limit)\n",
    "obj=ccdata.groupby(['CL_bin','Gender']).agg({'CLIENTNUM': 'count'})\n",
    "state_pcts = obj.groupby(level=1).apply(lambda x:\n",
    "                                                 100 * x / float(x.sum()))\n",
    "a=state_pcts.reset_index()\n",
    "\n",
    "# extracting relevant data\n",
    "Male = list(a[a.Gender=='M']['CLIENTNUM'])\n",
    "Female = list(a[a.Gender=='F']['CLIENTNUM'])\n",
    "\n",
    "# defining and plotting dataframe\n",
    "df = pd.DataFrame(\n",
    "    {'Credit limit': Credit_limit,\n",
    "     'Female': Female,\n",
    "     'Male': Male,\n",
    "    })\n",
    "\n",
    "df.plot(x=\"Credit limit\", y=[\"Male\",\"Female\"], kind=\"barh\",color=['royalblue','orange'])"
   ]
  },
  {
   "cell_type": "markdown",
   "id": "83febc30",
   "metadata": {},
   "source": [
    "# EDA3. Every additional customer contact increases the likelihood to churn by 12%."
   ]
  },
  {
   "cell_type": "code",
   "execution_count": null,
   "id": "432aa3c1",
   "metadata": {},
   "outputs": [],
   "source": [
    "# describing labels\n",
    "plt.xlabel('Customer contacts in the last 12 months')\n",
    "plt.ylabel('in %')\n",
    "\n",
    "# setting the plot info\n",
    "a=list(ccdata.Contacts_Count_12_mon.value_counts().index)\n",
    "bar_width=0.3 \n",
    "tick_label=a.sort()\n",
    "x=np.arange(7)\n",
    "\n",
    "# grouping the data\n",
    "obj=ccdata.groupby(['Contacts_Count_12_mon','Attrition_Flag']).agg({'CLIENTNUM': 'count'})\n",
    "state_pcts = obj.groupby(level=0).apply(lambda x:\n",
    "                                                 100 * x / float(x.sum()))\n",
    "a=state_pcts.reset_index()\n",
    "attrited=list(a[a.Attrition_Flag=='Attrited Customer']['CLIENTNUM'])\n",
    "\n",
    "# plotting the chart\n",
    "plt.bar(x,attrited,bar_width,color='crimson',label='Attrited customer')\n",
    "\n",
    "plt.legend()\n",
    "plt.xticks(x,tick_label)\n",
    "plt.show()"
   ]
  },
  {
   "cell_type": "markdown",
   "id": "80327485",
   "metadata": {},
   "source": [
    "# EDA4. There is close to a 25% drop in the average transaction amount for attrited platinum card customers."
   ]
  },
  {
   "cell_type": "code",
   "execution_count": null,
   "id": "03ccbfe9",
   "metadata": {},
   "outputs": [],
   "source": [
    "# grouping the data to find % share\n",
    "ccdata['Average_amount_per_transaction']=ccdata['Total_Trans_Amt']/ccdata['Total_Trans_Ct']\n",
    "obj = ccdata.groupby(['Attrition_Flag','Card_Category']).agg({'Average_amount_per_transaction': 'mean'})\n",
    "\n",
    "# extracting individual card type info\n",
    "state_pcts = obj.groupby(level=1).apply(lambda x:x)\n",
    "x1=state_pcts.loc['Attrited Customer','Platinum'][0]\n",
    "y1=state_pcts.loc['Attrited Customer','Gold'][0]\n",
    "z1=state_pcts.loc['Attrited Customer','Silver'][0]\n",
    "w1=state_pcts.loc['Attrited Customer','Blue'][0]\n",
    "x2=state_pcts.loc['Existing Customer','Platinum'][0]\n",
    "y2=state_pcts.loc['Existing Customer','Gold'][0]\n",
    "z2=state_pcts.loc['Existing Customer','Silver'][0]\n",
    "w2=state_pcts.loc['Existing Customer','Blue'][0]\n",
    "\n",
    "# setting the labels and axes\n",
    "Card_level = ['Blue', 'Silver', 'Gold', 'Platinum']\n",
    "Attrited = [w1,z1,y1,x1]\n",
    "Existing = [w2,z2,y2,x2]\n",
    "\n",
    "# defining and plotting dataframe\n",
    "df = pd.DataFrame(\n",
    "    {'Card level': Card_level,\n",
    "     'Attrited': Attrited,\n",
    "     'Existing': Existing\n",
    "    })\n",
    "\n",
    "df.plot(x=\"Card level\", y=[\"Existing\",\"Attrited\"], kind=\"barh\",color=['mediumseagreen','crimson'])"
   ]
  },
  {
   "cell_type": "markdown",
   "id": "d37ecfb6",
   "metadata": {},
   "source": [
    "# EDA5. Customers with less than 3 relationships are almost 2 times more likely to churn."
   ]
  },
  {
   "cell_type": "code",
   "execution_count": null,
   "id": "ec440349",
   "metadata": {},
   "outputs": [],
   "source": [
    "# describing axes\n",
    "plt.xlabel('Relationships with bank')\n",
    "plt.ylabel('in %')\n",
    "\n",
    "# describing labels\n",
    "tick_label=['0-2','3-6']\n",
    "\n",
    "# grouping data\n",
    "ccdata['Rl_bin']=pd.cut(ccdata.Total_Relationship_Count,bins=[0,2,6],labels=tick_label)\n",
    "obj=ccdata.groupby(['Rl_bin','Attrition_Flag']).agg({'CLIENTNUM': 'count'})\n",
    "state_pcts = obj.groupby(level=0).apply(lambda x:\n",
    "                                                 100 * x / float(x.sum()))\n",
    "a=state_pcts.reset_index()\n",
    "\n",
    "# setting plot attributes and plotting\n",
    "x=np.arange(2)\n",
    "attrited=list(a[a.Attrition_Flag=='Attrited Customer']['CLIENTNUM'])\n",
    "existing=list(a[a.Attrition_Flag=='Existing Customer']['CLIENTNUM'])\n",
    "bar_width=0.3\n",
    "plt.bar(x,attrited,bar_width,color='crimson',label='Attrited')\n",
    "plt.bar(x+bar_width,existing,bar_width,color='mediumseagreen',label='Existing')\n",
    "\n",
    "plt.legend()\n",
    "plt.xticks(x+bar_width/2,tick_label)\n",
    "plt.show()"
   ]
  },
  {
   "cell_type": "markdown",
   "id": "ffe4a518",
   "metadata": {},
   "source": [
    "# EDA6. 30 out of 100 customers are likely to churn if their revolving balance is below $1K."
   ]
  },
  {
   "cell_type": "code",
   "execution_count": null,
   "id": "95ecb78a",
   "metadata": {},
   "outputs": [],
   "source": [
    "# describing axes\n",
    "plt.xlabel('Revolving balance($)')\n",
    "plt.ylabel('in %')\n",
    "x=np.arange(3)\n",
    "bar_width=0.3\n",
    "\n",
    "# describing labels\n",
    "tick_label=['<1000','1000-2000','2000-3000']\n",
    "\n",
    "# grouping the data to find % share\n",
    "ccdata['Rb_bin']=pd.cut(ccdata.Total_Revolving_Bal,bins=[0,1000,2000,3000],labels=tick_label)\n",
    "obj=ccdata.groupby(['Rb_bin','Attrition_Flag']).agg({'CLIENTNUM': 'count'})\n",
    "state_pcts = obj.groupby(level=0).apply(lambda x:\n",
    "                                                 100 * x / float(x.sum()))\n",
    "a=state_pcts.reset_index()\n",
    "\n",
    "attrited=list(a[a.Attrition_Flag=='Attrited Customer']['CLIENTNUM'])\n",
    "existing=list(a[a.Attrition_Flag=='Existing Customer']['CLIENTNUM'])\n",
    "\n",
    "# plotting the chart\n",
    "plt.bar(x,attrited,bar_width,color='crimson',label='Attrited')\n",
    "plt.bar(x+bar_width,existing,bar_width,color='mediumseagreen',label='Existing')\n",
    "\n",
    "plt.legend()\n",
    "plt.xticks(x+bar_width/2,tick_label)\n",
    "    \n",
    "plt.show()"
   ]
  },
  {
   "cell_type": "markdown",
   "id": "c238abb2",
   "metadata": {},
   "source": [
    "# EDA7. People at the extremes of average utilization ratio have higher percentages of attrition rate."
   ]
  },
  {
   "cell_type": "code",
   "execution_count": null,
   "id": "a23358c3",
   "metadata": {},
   "outputs": [],
   "source": [
    "# grouping data and extracting columns for scatterplot\n",
    "obj=ccdata.groupby(['Avg_Utilization_Ratio','Attrition_Flag']).agg({'CLIENTNUM': 'count'})\n",
    "state_pcts = obj.groupby(level=0).apply(lambda x:\n",
    "                                                 100 * x / float(x.sum()))\n",
    "a=state_pcts.reset_index()\n",
    "aver_util=list(a[a.Attrition_Flag=='Attrited Customer']['Avg_Utilization_Ratio'])\n",
    "attrition=list(a[a.Attrition_Flag=='Attrited Customer']['CLIENTNUM'])\n",
    "fig = plt.figure()   \n",
    "\n",
    "ax = fig.add_subplot(1, 1, 1)\n",
    "\n",
    "# plotting the chart\n",
    "ax.scatter(aver_util, attrition, color='crimson')\n",
    "plt.show() "
   ]
  },
  {
   "cell_type": "markdown",
   "id": "cf4f8418",
   "metadata": {},
   "source": [
    "# Insight1. 30 out of 100 customers are likely to churn if their revolving balance is below $1K."
   ]
  },
  {
   "cell_type": "code",
   "execution_count": null,
   "id": "a182eac5",
   "metadata": {},
   "outputs": [],
   "source": [
    "# describing axes\n",
    "plt.xlabel('Revolving balance($)')\n",
    "plt.ylabel('in %')\n",
    "x=np.arange(3)\n",
    "bar_width=0.3\n",
    "\n",
    "# describing labels\n",
    "tick_label=['<1000','1000-2000','2000-3000']\n",
    "\n",
    "# grouping the data to find % share\n",
    "ccdata['Rb_bin']=pd.cut(ccdata.Total_Revolving_Bal,bins=[0,1000,2000,3000],labels=tick_label)\n",
    "obj=ccdata.groupby(['Rb_bin','Attrition_Flag']).agg({'CLIENTNUM': 'count'})\n",
    "state_pcts = obj.groupby(level=0).apply(lambda x:\n",
    "                                                 100 * x / float(x.sum()))\n",
    "a=state_pcts.reset_index()\n",
    "\n",
    "attrited=list(a[a.Attrition_Flag=='Attrited Customer']['CLIENTNUM'])\n",
    "existing=list(a[a.Attrition_Flag=='Existing Customer']['CLIENTNUM'])\n",
    "\n",
    "# plotting the chart\n",
    "plt.bar(x,attrited,bar_width,color='crimson',label='Attrited')\n",
    "plt.bar(x+bar_width,existing,bar_width,color='mediumseagreen',label='Existing')\n",
    "\n",
    "plt.legend()\n",
    "plt.xticks(x+bar_width/2,tick_label)\n",
    "    \n",
    "plt.show()"
   ]
  },
  {
   "cell_type": "markdown",
   "id": "14b25b80",
   "metadata": {},
   "source": [
    "# Insight2. There are no attrited customers that have made more than 100 transactions.​"
   ]
  },
  {
   "cell_type": "code",
   "execution_count": null,
   "id": "1c8d303e",
   "metadata": {},
   "outputs": [],
   "source": [
    "# describing labels\n",
    "Trans_Cnt = ['<50', '50-100', '>100']\n",
    "\n",
    "# grouping the data to find % share\n",
    "ccdata['TC_bin']=pd.cut(ccdata.Total_Trans_Ct,bins=[0,50,100,150],labels=Trans_Cnt)\n",
    "obj=ccdata.groupby(['TC_bin','Attrition_Flag']).agg({'CLIENTNUM': 'count'})\n",
    "state_pcts = obj.groupby(level=0).apply(lambda x:\n",
    "                                                 100 * x / float(x.sum()))\n",
    "a=state_pcts.reset_index()\n",
    "\n",
    "attrited=list(a[a.Attrition_Flag=='Attrited Customer']['CLIENTNUM'])\n",
    "existing=list(a[a.Attrition_Flag=='Existing Customer']['CLIENTNUM'])\n",
    "\n",
    "# plotting the chart\n",
    "df = pd.DataFrame(\n",
    "    {'Trans count': Trans_Cnt,\n",
    "     'Attrited': attrited,\n",
    "     'Existing': existing,\n",
    "    })\n",
    "\n",
    "df.plot(x='Trans count', y=[\"Attrited\",\"Existing\"], kind=\"barh\",color=['royalblue','orange'])"
   ]
  },
  {
   "cell_type": "code",
   "execution_count": null,
   "id": "62972c2a",
   "metadata": {},
   "outputs": [],
   "source": []
  }
 ],
 "metadata": {
  "kernelspec": {
   "display_name": "Python 3",
   "language": "python",
   "name": "python3"
  },
  "language_info": {
   "codemirror_mode": {
    "name": "ipython",
    "version": 3
   },
   "file_extension": ".py",
   "mimetype": "text/x-python",
   "name": "python",
   "nbconvert_exporter": "python",
   "pygments_lexer": "ipython3",
   "version": "3.8.10"
  }
 },
 "nbformat": 4,
 "nbformat_minor": 5
}
